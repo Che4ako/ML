{
 "cells": [
  {
   "cell_type": "markdown",
   "metadata": {},
   "source": [
    "Подгружаю библиотеки и загружаю данные из датасета fetch_california_housing"
   ]
  },
  {
   "cell_type": "code",
   "execution_count": 14,
   "metadata": {},
   "outputs": [],
   "source": [
    "import numpy as np\n",
    "from sklearn import datasets\n",
    "from sklearn.model_selection import train_test_split\n",
    "import sklearn\n",
    "from sklearn.metrics import mean_squared_error as mse\n",
    "from sklearn.tree import DecisionTreeRegressor\n",
    "import matplotlib.pyplot as plt\n",
    "%matplotlib inline\n",
    "\n",
    "\n",
    "data = datasets.fetch_california_housing()\n",
    "X = data.data\n",
    "y = data.target\n",
    "X_train, X_test, y_train, y_test = train_test_split(X, y, test_size=0.33, random_state=42)"
   ]
  },
  {
   "cell_type": "markdown",
   "metadata": {},
   "source": [
    "Реализую решающее дерево"
   ]
  },
  {
   "cell_type": "code",
   "execution_count": 4,
   "metadata": {},
   "outputs": [],
   "source": [
    "class RegressionTree():\n",
    "\n",
    "    def __init__(self, max_depth=3, min_size=10):\n",
    "        \n",
    "        self.max_depth = max_depth\n",
    "        self.min_size = min_size\n",
    "        #значение в поддереве (среднее по всем листам)\n",
    "        self.value = 0\n",
    "        # номер лучшего признака\n",
    "        self.feature_idx = -1\n",
    "        # значение лучшего признака\n",
    "        self.feature_threshold = 0\n",
    "        #правый и левый потомоки\n",
    "        self.left = None\n",
    "        self.right = None\n",
    "        \n",
    "    def fit(self, X, y):\n",
    "        \n",
    "        # начальное значение - среднее значение y\n",
    "        self.value = y.mean()\n",
    "        base_error = ((y - self.value) ** 2).sum()\n",
    "        error = base_error\n",
    "        \n",
    "        #одно из условий прекращения обучения: достигли максимальной глубины\n",
    "        if self.max_depth <= 1:\n",
    "            return\n",
    "        \n",
    "        left_value, right_value = 0.0, 0.0\n",
    "        \n",
    "        #перебираю всевозможные признаки и трешхолды\n",
    "        for feat in range(X.shape[1]):\n",
    "            \n",
    "            prev_error1, prev_error2 = base_error, 0 \n",
    "            idxs = np.argsort(X[:, feat])\n",
    "            \n",
    "            #более быстрый пересчет ошибки\n",
    "            mean1, mean2 = y.mean(), 0\n",
    "            sm1, sm2 = y.sum(), 0\n",
    "            \n",
    "            N = X.shape[0]\n",
    "            N1, N2 = N, 0\n",
    "            thres = 1\n",
    "            \n",
    "            while thres < N - 1:\n",
    "                N1 -= 1\n",
    "                N2 += 1\n",
    "\n",
    "                idx = idxs[thres]\n",
    "                x = X[idx, feat]\n",
    "                \n",
    "                delta1 = (sm1 - y[idx]) * 1.0 / N1 - mean1\n",
    "                delta2 = (sm2 + y[idx]) * 1.0 / N2 - mean2\n",
    "                sm1 -= y[idx]\n",
    "                sm2 += y[idx]\n",
    "                \n",
    "                # пересчитываем ошибки за O(1)\n",
    "                prev_error1 += (delta1**2) * N1 \n",
    "                prev_error1 -= (y[idx] - mean1)**2 \n",
    "                prev_error1 -= 2 * delta1 * (sm1 - mean1 * N1)\n",
    "                mean1 = sm1/N1\n",
    "                \n",
    "                prev_error2 += (delta2**2) * N2 \n",
    "                prev_error2 += (y[idx] - mean2)**2 \n",
    "                prev_error2 -= 2 * delta2 * (sm2 - mean2 * N2)\n",
    "                mean2 = sm2/N2\n",
    "                \n",
    "                if thres < N - 1 and np.abs(x - X[idxs[thres + 1], feat]) < 1e-5:\n",
    "                    thres += 1\n",
    "                    continue\n",
    "                \n",
    "                #условия разделения: уменьшение ошибки и в кажом листе будет >= min_size\n",
    "                if (prev_error1 + prev_error2 < error):\n",
    "                    if (min(N1,N2) > self.min_size):\n",
    "                        self.feature_idx, self.feature_threshold = feat, x\n",
    "                        left_value, right_value = mean1, mean2\n",
    "                        error = prev_error1 + prev_error2\n",
    "                                     \n",
    "                thres += 1\n",
    " \n",
    "        #если не нашли разбияения\n",
    "        if self.feature_idx == -1:\n",
    "            return\n",
    "        \n",
    "        self.left = RegressionTree(self.max_depth - 1)\n",
    "        self.right = RegressionTree(self.max_depth - 1)\n",
    "        \n",
    "        idxs_l = (X[:, self.feature_idx] > self.feature_threshold)\n",
    "        idxs_r = (X[:, self.feature_idx] <= self.feature_threshold)\n",
    "    \n",
    "        self.left.fit(X[idxs_l, :], y[idxs_l])\n",
    "        self.right.fit(X[idxs_r, :], y[idxs_r])\n",
    "        \n",
    "    def __predict(self, x):\n",
    "        if self.feature_idx == -1:\n",
    "            return self.value\n",
    "        \n",
    "        if x[self.feature_idx] > self.feature_threshold:\n",
    "            return self.left.__predict(x)\n",
    "        else:\n",
    "            return self.right.__predict(x)\n",
    "        \n",
    "    def predict(self, X):\n",
    "        y = np.zeros(X.shape[0])\n",
    "        \n",
    "        for i in range(X.shape[0]):\n",
    "            y[i] = self.__predict(X[i])\n",
    "            \n",
    "        return y"
   ]
  },
  {
   "cell_type": "raw",
   "metadata": {},
   "source": [
    "Сравниваю время работы"
   ]
  },
  {
   "cell_type": "code",
   "execution_count": 5,
   "metadata": {},
   "outputs": [
    {
     "name": "stdout",
     "output_type": "stream",
     "text": [
      "CPU times: user 6.72 s, sys: 14.9 ms, total: 6.73 s\n",
      "Wall time: 6.74 s\n"
     ]
    }
   ],
   "source": [
    "%%time\n",
    "A = RegressionTree(4, min_size=5)\n",
    "A.fit(X,y)\n",
    "test_mytree = A.predict(X)\n",
    "test_mytree"
   ]
  },
  {
   "cell_type": "code",
   "execution_count": 6,
   "metadata": {
    "scrolled": true
   },
   "outputs": [
    {
     "name": "stdout",
     "output_type": "stream",
     "text": [
      "CPU times: user 82.9 ms, sys: 0 ns, total: 82.9 ms\n",
      "Wall time: 83.8 ms\n"
     ]
    }
   ],
   "source": [
    "%%time\n",
    "model = DecisionTreeRegressor(max_depth=4, min_samples_leaf=5)\n",
    "model.fit(X,y)\n",
    "test_sklearn = model.predict(X)"
   ]
  },
  {
   "cell_type": "markdown",
   "metadata": {},
   "source": [
    "Проверяю, что результат адекватный"
   ]
  },
  {
   "cell_type": "code",
   "execution_count": 7,
   "metadata": {},
   "outputs": [],
   "source": [
    "rm = RegressionTree(max_depth=10, min_size=10)"
   ]
  },
  {
   "cell_type": "code",
   "execution_count": 8,
   "metadata": {},
   "outputs": [],
   "source": [
    "rm.fit(X_train, y_train)"
   ]
  },
  {
   "cell_type": "code",
   "execution_count": 9,
   "metadata": {},
   "outputs": [
    {
     "data": {
      "text/plain": [
       "0.18616588295378705"
      ]
     },
     "execution_count": 9,
     "metadata": {},
     "output_type": "execute_result"
    }
   ],
   "source": [
    "mse(rm.predict(X_test), y_test) / y_train.mean()"
   ]
  },
  {
   "cell_type": "markdown",
   "metadata": {},
   "source": [
    "Реализую градиентный бустинг"
   ]
  },
  {
   "cell_type": "code",
   "execution_count": 10,
   "metadata": {},
   "outputs": [],
   "source": [
    "class GradientBoosting():\n",
    "    \n",
    "    def __init__(self, n_estimators=10, learning_rate=0.1, max_depth=3, \n",
    "                 random_state=17, min_size = 5):\n",
    "            \n",
    "        self.n_estimators = n_estimators\n",
    "        self.max_depth = max_depth\n",
    "        self.learning_rate = learning_rate\n",
    "        self.initialization = lambda y: np.mean(y) * np.ones([y.shape[0]])\n",
    "        self.min_size = min_size\n",
    "        self.loss_by_iter = []\n",
    "        self.trees = []\n",
    "    \n",
    "    def fit(self, X, y):\n",
    "        self.X = X\n",
    "        self.y = y\n",
    "        b = self.initialization(y)\n",
    "        \n",
    "        prediction = b.copy()\n",
    "            \n",
    "        for t in range(self.n_estimators):  \n",
    "            \n",
    "            if t == 0:\n",
    "                resid = y\n",
    "            else:\n",
    "                #вектор антиградиента\n",
    "                resid = (y - prediction)\n",
    "            \n",
    "            tree = RegressionTree(max_depth=self.max_depth, min_size = self.min_size)\n",
    "            tree.fit(X, resid)\n",
    "            b = tree.predict(X).reshape([X.shape[0]])\n",
    "            self.trees.append(tree)\n",
    "            #учитываем learning_rate, чтобы увеличить обобщающую способность\n",
    "            prediction += self.learning_rate * b\n",
    "            \n",
    "            if t > 0:\n",
    "                self.loss_by_iter.append(mse(y,prediction))\n",
    "                   \n",
    "        return self\n",
    "    \n",
    "    def predict(self, X):\n",
    "        \n",
    "        # сначала прогноз – это просто вектор из средних значений ответов на обучении\n",
    "        pred = np.ones([X.shape[0]]) * np.mean(self.y)\n",
    "        # добавляем прогнозы деревьев с учётом learning_rate при обучении\n",
    "        for t in range(self.n_estimators):\n",
    "            pred += self.learning_rate * self.trees[t].predict(X).reshape([X.shape[0]])\n",
    "            \n",
    "        return pred"
   ]
  },
  {
   "cell_type": "markdown",
   "metadata": {},
   "source": [
    "Смотрю, что с добавлением следующего решающего дерева Loss действительно падает"
   ]
  },
  {
   "cell_type": "code",
   "execution_count": 15,
   "metadata": {},
   "outputs": [
    {
     "data": {
      "text/plain": [
       "[<matplotlib.lines.Line2D at 0x7f5619a01550>]"
      ]
     },
     "execution_count": 15,
     "metadata": {},
     "output_type": "execute_result"
    },
    {
     "data": {
      "image/png": "[encoded data removed]",
      "text/plain": [
       "<Figure size 432x288 with 1 Axes>"
      ]
     },
     "metadata": {},
     "output_type": "display_data"
    }
   ],
   "source": [
    "GDB = GradientBoosting(n_estimators=50)\n",
    "GDB.fit(X,y)\n",
    "x = GDB.predict(X)\n",
    "plt.grid()\n",
    "plt.title('Loss by iterations')\n",
    "plt.plot(GDB.loss_by_iter)"
   ]
  },
  {
   "cell_type": "markdown",
   "metadata": {},
   "source": [
    "Обучается ~5 минут, снова проверяю результат на адекватность"
   ]
  },
  {
   "cell_type": "code",
   "execution_count": 50,
   "metadata": {},
   "outputs": [],
   "source": [
    "gb = GradientBoosting()\n",
    "gb.fit(X_train, y_train)\n",
    "mse(gb.predict(X_test), y_test) / y_test.mean()"
   ]
  },
  {
   "cell_type": "markdown",
   "metadata": {},
   "source": [
    "Сравнение с scikit learn GDBSklearn"
   ]
  },
  {
   "cell_type": "code",
   "execution_count": 18,
   "metadata": {},
   "outputs": [
    {
     "data": {
      "image/png": "[encoded data removed]",
      "text/plain": [
       "<Figure size 432x288 with 1 Axes>"
      ]
     },
     "metadata": {},
     "output_type": "display_data"
    }
   ],
   "source": [
    "from sklearn.model_selection import KFold\n",
    "import matplotlib.pyplot as plt\n",
    "%matplotlib inline\n",
    "from sklearn.ensemble import GradientBoostingRegressor as GDBSklearn\n",
    "import copy\n",
    "\n",
    "\n",
    "def get_metrics(X,y,n_folds=2, model=None):\n",
    "    kf = KFold(n_splits=n_folds, shuffle=True)\n",
    "    kf.get_n_splits(X)\n",
    "\n",
    "    er_list = []\n",
    "    for train_index, test_index in kf.split(X):\n",
    "        X_train, X_test = X[train_index], X[test_index]\n",
    "        y_train, y_test = y[train_index], y[test_index]\n",
    "        model.fit(X_train,y_train)\n",
    "        predict = model.predict(X_test)\n",
    "        er_list.append(mse(y_test, predict))\n",
    "    \n",
    "    return er_list\n",
    "\n",
    "data = datasets.fetch_california_housing()\n",
    "X = np.array(data.data)\n",
    "y = np.array(data.target)\n",
    "er_boosting = get_metrics(X,y,3,GradientBoosting(max_depth=3, n_estimators=40))\n",
    "er_sklearn_boosting = get_metrics(X,y,3,GDBSklearn(max_depth=3,n_estimators=40, learning_rate=0.1))\n",
    "\n",
    "%matplotlib inline\n",
    "data = [er_sklearn_boosting, er_boosting]\n",
    "fig7, ax7 = plt.subplots()\n",
    "ax7.set_title('')\n",
    "ax7.boxplot(data, labels=['Sklearn Boosting', 'Boosting'])\n",
    "plt.grid()\n",
    "plt.show()"
   ]
  }
 ],
 "metadata": {
  "kernelspec": {
   "display_name": "Python 3",
   "language": "python",
   "name": "python3"
  },
  "language_info": {
   "codemirror_mode": {
    "name": "ipython",
    "version": 3
   },
   "file_extension": ".py",
   "mimetype": "text/x-python",
   "name": "python",
   "nbconvert_exporter": "python",
   "pygments_lexer": "ipython3",
   "version": "3.6.9"
  }
 },
 "nbformat": 4,
 "nbformat_minor": 2
}
