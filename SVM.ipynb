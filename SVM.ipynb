{
 "cells": [
  {
   "cell_type": "markdown",
   "metadata": {},
   "source": [
    "Реализация SVM для бинарной классификации на Numpy"
   ]
  },
  {
   "cell_type": "markdown",
   "metadata": {},
   "source": [
    "Значение оптимизируемого функционала $Q(X, y, w, b)$\n",
    "$$Q(X, y, w, b)= C\\cdot \\sum\\limits_{i=1}^N \\max\\{0, 1-y_i\\cdot (<x_i, w> + b)\\} \\rightarrow \\min\\limits_{w, b}$$\n",
    "Функционал негладкий, поэтому реализую субградиентный спуск."
   ]
  },
  {
   "cell_type": "code",
   "execution_count": 2,
   "metadata": {},
   "outputs": [],
   "source": [
    "import time\n",
    "import numpy as np\n",
    "import scipy\n",
    "from scipy.special import expit\n",
    "import scipy.sparse as sparse\n",
    "from numpy.linalg import norm\n",
    "import math\n",
    "\n",
    "\n",
    "class SVMClassifier:\n",
    "\n",
    "    def __init__(self, step_alpha=1, step_beta=0, tolerance=1e-5, \n",
    "                 max_iter=1000, l2_coef=1.0, C_coef=1.0, **kwargs):\n",
    "        self.step_alpha = step_alpha\n",
    "        self.step_beta = step_beta\n",
    "        self.tolerance = tolerance\n",
    "        self.max_iter = max_iter\n",
    "        self.l2_coef = l2_coef\n",
    "        self.C_coef = C_coef\n",
    "        self.history = {'weights': [], 'func': []}\n",
    "        self.w = None\n",
    "        self.b = None\n",
    "\n",
    "    #вычисление значения функционала, соответсвующего безусловной задачи оптимизации для SVM\n",
    "    #параметр self.C_coef нужно подбирать отдельно для каждой задачи\n",
    "    #см. подробности https://github.com/esokolov/ml-course-hse/blob/master/2016-fall/lecture-notes/lecture05-linclass.pdf\n",
    "    #и в лекции Воронцова по SVM\n",
    "    def func(self, X, y, w, b):\n",
    "        #print(np.dot(X, w) + b)\n",
    "        #print(y.shape)\n",
    "        return self.C_coef * (np.maximum(1.0 - (np.dot(X, w) + b) * y, \n",
    "                          np.zeros(X.shape[0]))).sum() / X.shape[0] + self.l2_coef * 0.5 * norm(w) ** 2\n",
    "    \n",
    "    #вычисление градиента по весам\n",
    "    def grad_w(self, X, y, w, b):\n",
    "        gradient_coefficients = ((np.dot(X, w) + b) * y <= 1.0)\n",
    "        #print(gradient_coefficients.sum())\n",
    "        return (self.l2_coef * w - self.C_coef * \n",
    "                ((X * y[:, np.newaxis] * gradient_coefficients[:, np.newaxis]).T).sum(axis=1) \n",
    "                / X.shape[0]\n",
    "                )\n",
    "    \n",
    "    #вычисление производной по параметру сдвига гиперплоскости\n",
    "    def grad_b(self, X, y, w, b):\n",
    "        gradient_coefficients = ((np.dot(X, w) + b) * y <= 1.0)\n",
    "        return - self.C_coef * (y * gradient_coefficients).sum() / X.shape[0]\n",
    "        \n",
    "    def fit(self, X, y, w_0=None, b_0=None, trace=False):\n",
    "        if w_0 is None:\n",
    "            w_0 = np.ones(X.shape[1]) / X.shape[1]\n",
    "            #w_0 = np.zeros(X.shape[1])\n",
    "        if b_0 is None:\n",
    "            b_0 = 0.0\n",
    "        self.history['func'].append(self.func(X, y, w_0, b_0))\n",
    "        \n",
    "        self.w = w_0 - self.step_alpha * self.grad_w(X, y, w_0, b_0)\n",
    "        self.b = b_0 - self.step_alpha * self.grad_b(X, y, w_0, b_0)\n",
    "        self.history['func'].append(self.func(X, y, self.w, self.b))\n",
    "        self.history['weights'].append(self.get_weights())\n",
    "\n",
    "        if abs(self.history['func'][1] - self.history['func'][0]) < self.tolerance:\n",
    "            return\n",
    "        else:\n",
    "            #градиентный спуск для минимизации функционала\n",
    "            for k in range(2, self.max_iter+1):\n",
    "                w_curr = self.w.copy()\n",
    "                b_curr = self.b\n",
    "                self.w = w_curr - (self.step_alpha / (k ** self.step_beta)) * self.grad_w(X, y, w_curr, b_curr)\n",
    "                self.b = b_curr - (self.step_alpha / (k ** self.step_beta)) * self.grad_b(X, y, w_curr, b_curr)\n",
    "                self.history['func'].append(self.func(X, y, self.w, self.b))\n",
    "                self.history['weights'].append(self.get_weights())\n",
    "                if abs(self.history['func'][k] - self.history['func'][k-1]) < self.tolerance:\n",
    "                    return           \n",
    "        \n",
    "    def predict(self, X):\n",
    "        R = np.sign(np.dot(X, self.w) + self.b)\n",
    "        R[R == 0.] = 1\n",
    "        return R\n",
    "\n",
    "    #значение функционала    \n",
    "    def get_objective(self, X, y):\n",
    "        return self.func(X, y, self.w, self.b)\n",
    "    \n",
    "    #посмотреть веса обученя\n",
    "    def get_weights(self):\n",
    "        return np.hstack((self.w, self.b))\n",
    "    \n",
    "    "
   ]
  },
  {
   "cell_type": "markdown",
   "metadata": {},
   "source": [
    "Создание выборки из make_blobs"
   ]
  },
  {
   "cell_type": "code",
   "execution_count": 19,
   "metadata": {},
   "outputs": [],
   "source": [
    "from sklearn.datasets import make_blobs\n",
    "from sklearn.model_selection import train_test_split\n",
    "import numpy as np\n",
    "import matplotlib.pyplot as plt\n",
    "import time\n",
    "from sklearn.preprocessing import StandardScaler\n",
    "%matplotlib inline\n",
    "\n",
    "np.random.seed(119)\n",
    "#создаю выборку\n",
    "sample_size = 3000\n",
    "X, y = make_blobs(sample_size, centers=2)\n",
    "scaler = StandardScaler()\n",
    "scaler.fit(X)\n",
    "X = scaler.transform(X)\n",
    "#X = np.hstack((X, np.ones((X.shape[0], 1))))\n",
    "y = (y - 0.5) * 2\n",
    "X_train, X_test, y_train, y_test = train_test_split(X, y, test_size=0.33, random_state=42)"
   ]
  },
  {
   "cell_type": "markdown",
   "metadata": {},
   "source": [
    "На трейне"
   ]
  },
  {
   "cell_type": "markdown",
   "metadata": {},
   "source": [
    "От выбора коэффициента C и learning_rate зависит итоговая гиперплоскость (в том числе и в случае линейно разделимо выборки, так как решаю задачу оптимизации функционала), поэтому не всегда получается результат идеально соответсвующий определению гиперплоскости в SVM. Но как видно из следующей ячейки результат близкий. "
   ]
  },
  {
   "cell_type": "code",
   "execution_count": 20,
   "metadata": {
    "scrolled": true
   },
   "outputs": [
    {
     "name": "stdout",
     "output_type": "stream",
     "text": [
      "Weights: [-1.07047301  0.51464129  0.00225949]\n",
      "Accuracy: 1.0\n",
      "fit time: 0.07002799700012474\n",
      "Угловой коэффициент: 2.0800371530205557\n",
      "Значение функционала: 0.8224784172029735\n",
      "[0.88753329 0.8848977  0.81308725 0.8576587  0.94251876 0.92723004\n",
      " 0.85207422 0.93591277 0.79058378 0.91166743 0.89839372 0.88247612\n",
      " 0.84153342 0.91273528 0.69246716 0.93349857]\n"
     ]
    },
    {
     "data": {
      "image/png": "[encoded data removed]",
      "text/plain": [
       "<Figure size 432x288 with 1 Axes>"
      ]
     },
     "metadata": {},
     "output_type": "display_data"
    }
   ],
   "source": [
    "#c = 1 * X_train.shape[0]\n",
    "c = 100\n",
    "old_oracle = SVMClassifier(step_alpha=1.0, step_beta=1.0, \n",
    "                 tolerance=1e-5, max_iter=3000, l_2_coef=1.0, C_coef=c)\n",
    "start = time.monotonic()\n",
    "res = old_oracle.fit(X_train, y_train)\n",
    "finish = time.monotonic()\n",
    "weights = old_oracle.get_weights()\n",
    "#делаю предсказания\n",
    "pred = old_oracle.predict(X_train)\n",
    "accuracy = (pred == y_train).sum() / y_train.shape[0]\n",
    "print(\"Weights: \" + str(weights))\n",
    "print(\"Accuracy: \" + str(accuracy))\n",
    "print(\"fit time: \" + str(finish - start))\n",
    "print(\"Угловой коэффициент: \" + str(-weights[0] / weights[1]))\n",
    "print(\"Значение функционала: \" + str(old_oracle.history['func'][-1]))\n",
    "\n",
    "#рисую опорные вектора: при идеальном обучении это в точности вектора до точек x_i:\n",
    "# y_i*(<x_i, w> + b) = 1, но у меня эта 1 может варьироваться в силу приближённого решения\n",
    "matr = (np.dot(X_train, weights[0:2]) + weights[2]) * y_train\n",
    "\n",
    "#вот тут число надо менть в зависимости от задачи\n",
    "new_mask = (matr <= 0.95 * np.ones(matr.shape[0]))\n",
    "e = np.array([weights[0], weights[1]]) / norm(np.array([weights[0], weights[1]]))\n",
    "sp = []\n",
    "p = []\n",
    "print(matr[new_mask])\n",
    "for i in X_train[new_mask]:\n",
    "    sp.append(i)\n",
    "    d = abs(weights[0]*i[0] + weights[1]*i[1] + weights[2]) / (weights[0]**2 + weights[1]**2) **0.5\n",
    "    if abs(weights[0]*(i+e*d)[0] + weights[1]*(i+e*d)[1] + weights[2]) > 0.01:\n",
    "        p.append(i-e*d)\n",
    "    else:\n",
    "        p.append(i+e*d)\n",
    "        \n",
    "\n",
    "x = np.hstack((np.linspace(X[:, 0].min(), X[:, 0].max(), 1000), 0))\n",
    "plt.plot(x, - (1 / weights[1]) * (weights[0] * x + weights[2]))\n",
    "for i in range(len(sp)):\n",
    "    plt.plot([sp[i][0], p[i][0]], [sp[i][1], p[i][1]])\n",
    "#plt.plot(x, - (v[0]/v[1]) * (x - M[0]) + M[1])\n",
    "plt.scatter(X_train[:, 0], X_train[:, 1], c=y_train)\n",
    "plt.axis('equal')\n",
    "plt.show()"
   ]
  },
  {
   "cell_type": "markdown",
   "metadata": {},
   "source": [
    "Сравнение с SVC из sklearn"
   ]
  },
  {
   "cell_type": "code",
   "execution_count": 21,
   "metadata": {},
   "outputs": [
    {
     "name": "stdout",
     "output_type": "stream",
     "text": [
      "Weights: [-1.06863034  0.52274181  0.00398723]\n",
      "Accuracy: 1.0\n",
      "fit time: 0.11744618400007312\n",
      "2.0442794488797924\n",
      "0.8231022208715647\n"
     ]
    },
    {
     "data": {
      "image/png": "[encoded data removed]",
      "text/plain": [
       "<Figure size 432x288 with 1 Axes>"
      ]
     },
     "metadata": {},
     "output_type": "display_data"
    }
   ],
   "source": [
    "from sklearn.svm import SVC \n",
    "import matplotlib.pyplot as plt\n",
    "%matplotlib inline\n",
    "\n",
    "model = SVC(kernel='linear', C=1E10)\n",
    "model.fit(X_train, y_train)\n",
    "plt.scatter(X_train[:, 0], X_train[:, 1], c=y_train, cmap='autumn')\n",
    "plt.scatter(model.support_vectors_[:,0],model.support_vectors_[:,1])\n",
    "\n",
    "ax = plt.gca()\n",
    "plt.scatter(X_train[:, 0], X_train[:, 1], c=y_train, cmap='autumn')\n",
    "xlim = ax.get_xlim()\n",
    "ylim = ax.get_ylim()\n",
    "xx = np.linspace(xlim[0], xlim[1], 50)\n",
    "yy = np.linspace(ylim[0], ylim[1], 50)\n",
    "YY, XX = np.meshgrid(yy, xx)\n",
    "xy = np.vstack([XX.ravel(), YY.ravel()]).T\n",
    "Z = model.decision_function(xy).reshape(XX.shape)\n",
    "ax.contour(XX, YY, Z, colors='k', levels=[-1, 0, 1], alpha=0.5,\n",
    "           linestyles=['--', '-', '--'])\n",
    "\n",
    "ax.scatter(model.support_vectors_[:, 0], model.support_vectors_[:, 1], s=100,\n",
    "           linewidth=1, facecolors='none', edgecolors='k')\n",
    "\n",
    "old_oracle = SVMClassifier(step_alpha=1.0, step_beta=1.0, \n",
    "                 tolerance=1e-5, max_iter=300, l_2_coef=1.0, C_coef=c)\n",
    "start = time.monotonic()\n",
    "res = old_oracle.fit(X_train, y_train)\n",
    "finish = time.monotonic()\n",
    "weights = old_oracle.get_weights()\n",
    "#делаю предсказания\n",
    "pred = old_oracle.predict(X_train)\n",
    "accuracy = (pred == y_train).sum() / y_train.shape[0]\n",
    "print(\"Weights: \" + str(weights))\n",
    "print(\"Accuracy: \" + str(accuracy))\n",
    "print(\"fit time: \" + str(finish - start))\n",
    "print(-weights[0] / weights[1])\n",
    "print(old_oracle.history['func'][-1])\n",
    "\n",
    "x = np.hstack((np.linspace(X[:, 0].min(), X[:, 0].max(), 1000), 0))\n",
    "plt.plot(x, - (1 / weights[1]) * (weights[0] * x + weights[2]))\n",
    "#plt.plot(x, - (v[0]/v[1]) * (x - M[0]) + M[1])\n",
    "plt.scatter(X_train[:, 0], X_train[:, 1], c=y_train)\n",
    "\n",
    "plt.show()"
   ]
  },
  {
   "cell_type": "markdown",
   "metadata": {},
   "source": [
    "Смотрю результат моего SVM на тесте"
   ]
  },
  {
   "cell_type": "markdown",
   "metadata": {},
   "source": [
    "На тесте"
   ]
  },
  {
   "cell_type": "code",
   "execution_count": 22,
   "metadata": {
    "scrolled": false
   },
   "outputs": [
    {
     "name": "stdout",
     "output_type": "stream",
     "text": [
      "Weights: [-1.06863034  0.52274181  0.00398723]\n",
      "Accuracy: 1.0\n",
      "fit time: 0.07465410599979805\n",
      "2.0442794488797924\n",
      "0.8231022208715647\n"
     ]
    },
    {
     "data": {
      "image/png": "[encoded data removed]",
      "text/plain": [
       "<Figure size 432x288 with 1 Axes>"
      ]
     },
     "metadata": {},
     "output_type": "display_data"
    }
   ],
   "source": [
    "old_oracle = SVMClassifier(step_alpha=1.0, step_beta=1.0, \n",
    "                 tolerance=1e-5, max_iter=300, l_2_coef=1.0, C_coef=c)\n",
    "start = time.monotonic()\n",
    "res = old_oracle.fit(X_train, y_train)\n",
    "finish = time.monotonic()\n",
    "weights = old_oracle.get_weights()\n",
    "#делаю предсказания\n",
    "pred = old_oracle.predict(X_test)\n",
    "accuracy = (pred == y_test).sum() / y_test.shape[0]\n",
    "print(\"Weights: \" + str(weights))\n",
    "print(\"Accuracy: \" + str(accuracy))\n",
    "print(\"fit time: \" + str(finish - start))\n",
    "print(-weights[0] / weights[1])\n",
    "print(old_oracle.history['func'][-1])\n",
    "\n",
    "x = np.linspace(X[:, 0].min(), X[:, 0].max(), 1000)\n",
    "plt.plot(x, - (1 / weights[1]) * (weights[0] * x + weights[2]))\n",
    "#plt.plot(x, - (v[0]/v[1]) * (x - M[0]) + M[1])\n",
    "plt.scatter(X_test[:, 0], X_test[:, 1], c=y_test)\n",
    "plt.show()"
   ]
  },
  {
   "cell_type": "markdown",
   "metadata": {},
   "source": [
    "Ради интереса посмотрим на make_moons"
   ]
  },
  {
   "cell_type": "code",
   "execution_count": 24,
   "metadata": {},
   "outputs": [],
   "source": [
    "from sklearn.datasets import make_blobs, make_moons\n",
    "from sklearn.model_selection import train_test_split\n",
    "import numpy as np\n",
    "import matplotlib.pyplot as plt\n",
    "import time\n",
    "from sklearn.preprocessing import StandardScaler\n",
    "%matplotlib inline\n",
    "#создаю выборку\n",
    "sample_size = 3000\n",
    "#X, y = make_blobs(sample_size, centers=2, n_features=10)\n",
    "X, y = make_moons(sample_size)\n",
    "scaler = StandardScaler()\n",
    "scaler.fit(X)\n",
    "X = scaler.transform(X)\n",
    "#X = np.hstack((X, np.ones((X.shape[0], 1))))\n",
    "y = (y - 0.5) * 2\n",
    "X_train, X_test, y_train, y_test = train_test_split(X, y, test_size=0.33, random_state=42)"
   ]
  },
  {
   "cell_type": "code",
   "execution_count": 25,
   "metadata": {},
   "outputs": [
    {
     "name": "stdout",
     "output_type": "stream",
     "text": [
      "Weights: [ 0.35959158 -0.50466207  0.01388218]\n",
      "Accuracy: 0.8757575757575757\n",
      "fit time: 0.0054379240000344\n",
      "0.7125393517714748\n",
      "0.6047303979611232\n"
     ]
    },
    {
     "data": {
      "image/png": "[encoded data removed]",
      "text/plain": [
       "<Figure size 432x288 with 1 Axes>"
      ]
     },
     "metadata": {},
     "output_type": "display_data"
    }
   ],
   "source": [
    "old_oracle = SVMClassifier(step_alpha=1.0, step_beta=1.0, \n",
    "                 tolerance=1e-5, max_iter=300, l_2_coef=1.0, C_coef=1.0)\n",
    "start = time.monotonic()\n",
    "res = old_oracle.fit(X_train, y_train)\n",
    "finish = time.monotonic()\n",
    "weights = old_oracle.get_weights()\n",
    "#делаю предсказания\n",
    "pred = old_oracle.predict(X_test)\n",
    "accuracy = (pred == y_test).sum() / y_test.shape[0]\n",
    "print(\"Weights: \" + str(weights))\n",
    "print(\"Accuracy: \" + str(accuracy))\n",
    "print(\"fit time: \" + str(finish - start))\n",
    "print(-weights[0] / weights[1])\n",
    "print(old_oracle.history['func'][-1])\n",
    "\n",
    "x = np.linspace(X[:, 0].min(), X[:, 0].max(), 1000)\n",
    "plt.plot(x, - (1 / weights[1]) * (weights[0] * x + weights[2]))\n",
    "#plt.plot(x, - (v[0]/v[1]) * (x - M[0]) + M[1])\n",
    "plt.scatter(X_test[:, 0], X_test[:, 1], c=y_test)\n",
    "plt.show()"
   ]
  },
  {
   "cell_type": "markdown",
   "metadata": {},
   "source": [
    "Пробую свою модель на dataset-е из kaggle https://www.kaggle.com/c/jigsaw-toxic-comment-classification-challenge"
   ]
  },
  {
   "cell_type": "markdown",
   "metadata": {},
   "source": [
    "Загрузка и препроцессинг (файлы данных приложил)"
   ]
  },
  {
   "cell_type": "code",
   "execution_count": 26,
   "metadata": {},
   "outputs": [
    {
     "data": {
      "text/html": [
       "<div>\n",
       "<style scoped>\n",
       "    .dataframe tbody tr th:only-of-type {\n",
       "        vertical-align: middle;\n",
       "    }\n",
       "\n",
       "    .dataframe tbody tr th {\n",
       "        vertical-align: top;\n",
       "    }\n",
       "\n",
       "    .dataframe thead th {\n",
       "        text-align: right;\n",
       "    }\n",
       "</style>\n",
       "<table border=\"1\" class=\"dataframe\">\n",
       "  <thead>\n",
       "    <tr style=\"text-align: right;\">\n",
       "      <th></th>\n",
       "      <th>id</th>\n",
       "      <th>text</th>\n",
       "      <th>is_toxic</th>\n",
       "    </tr>\n",
       "  </thead>\n",
       "  <tbody>\n",
       "    <tr>\n",
       "      <th>0</th>\n",
       "      <td>0</td>\n",
       "      <td>explanation why the edits made under my userna...</td>\n",
       "      <td>-1.0</td>\n",
       "    </tr>\n",
       "    <tr>\n",
       "      <th>1</th>\n",
       "      <td>1</td>\n",
       "      <td>d aww  he matches this background colour i m s...</td>\n",
       "      <td>-1.0</td>\n",
       "    </tr>\n",
       "    <tr>\n",
       "      <th>2</th>\n",
       "      <td>2</td>\n",
       "      <td>hey man  i m really not trying to edit war  it...</td>\n",
       "      <td>-1.0</td>\n",
       "    </tr>\n",
       "    <tr>\n",
       "      <th>3</th>\n",
       "      <td>3</td>\n",
       "      <td>more i can t make any real suggestions on im...</td>\n",
       "      <td>-1.0</td>\n",
       "    </tr>\n",
       "    <tr>\n",
       "      <th>4</th>\n",
       "      <td>4</td>\n",
       "      <td>you  sir  are my hero  any chance you remember...</td>\n",
       "      <td>-1.0</td>\n",
       "    </tr>\n",
       "  </tbody>\n",
       "</table>\n",
       "</div>"
      ],
      "text/plain": [
       "   id                                               text  is_toxic\n",
       "0   0  explanation why the edits made under my userna...      -1.0\n",
       "1   1  d aww  he matches this background colour i m s...      -1.0\n",
       "2   2  hey man  i m really not trying to edit war  it...      -1.0\n",
       "3   3    more i can t make any real suggestions on im...      -1.0\n",
       "4   4  you  sir  are my hero  any chance you remember...      -1.0"
      ]
     },
     "execution_count": 26,
     "metadata": {},
     "output_type": "execute_result"
    }
   ],
   "source": [
    "import pandas as pd\n",
    "import re\n",
    "from sklearn.feature_extraction.text import CountVectorizer, TfidfVectorizer\n",
    "import scipy.sparse\n",
    "import time\n",
    "import matplotlib\n",
    "%matplotlib inline\n",
    "\n",
    "df = pd.read_csv(\"toxic_train.csv\")\n",
    "df = df[['Unnamed: 0', 'comment_text', 'is_toxic']]\n",
    "df.columns = ['id', 'text', 'is_toxic']\n",
    "df.loc[:, 'is_toxic'] = (df.loc[:, 'is_toxic'].astype('int') - 0.5) * 2\n",
    "df.loc[:, 'text'] = df.loc[:, 'text'].apply(lambda x: x.lower())\n",
    "df.loc[:, 'text'] = df.loc[:, 'text'].apply(lambda x: re.sub('[^а-яёa-z0-9]', ' ', x))\n",
    "df.head()"
   ]
  },
  {
   "cell_type": "code",
   "execution_count": 27,
   "metadata": {},
   "outputs": [
    {
     "data": {
      "text/html": [
       "<div>\n",
       "<style scoped>\n",
       "    .dataframe tbody tr th:only-of-type {\n",
       "        vertical-align: middle;\n",
       "    }\n",
       "\n",
       "    .dataframe tbody tr th {\n",
       "        vertical-align: top;\n",
       "    }\n",
       "\n",
       "    .dataframe thead th {\n",
       "        text-align: right;\n",
       "    }\n",
       "</style>\n",
       "<table border=\"1\" class=\"dataframe\">\n",
       "  <thead>\n",
       "    <tr style=\"text-align: right;\">\n",
       "      <th></th>\n",
       "      <th>id</th>\n",
       "      <th>text</th>\n",
       "      <th>is_toxic</th>\n",
       "    </tr>\n",
       "  </thead>\n",
       "  <tbody>\n",
       "    <tr>\n",
       "      <th>0</th>\n",
       "      <td>0</td>\n",
       "      <td>thank you for understanding  i think very high...</td>\n",
       "      <td>-1.0</td>\n",
       "    </tr>\n",
       "    <tr>\n",
       "      <th>1</th>\n",
       "      <td>1</td>\n",
       "      <td>dear god this site is horrible</td>\n",
       "      <td>-1.0</td>\n",
       "    </tr>\n",
       "    <tr>\n",
       "      <th>2</th>\n",
       "      <td>2</td>\n",
       "      <td>somebody will invariably try to add relig...</td>\n",
       "      <td>-1.0</td>\n",
       "    </tr>\n",
       "    <tr>\n",
       "      <th>3</th>\n",
       "      <td>3</td>\n",
       "      <td>it says it right there that it is a type ...</td>\n",
       "      <td>-1.0</td>\n",
       "    </tr>\n",
       "    <tr>\n",
       "      <th>4</th>\n",
       "      <td>4</td>\n",
       "      <td>before adding a new product to the lis...</td>\n",
       "      <td>-1.0</td>\n",
       "    </tr>\n",
       "  </tbody>\n",
       "</table>\n",
       "</div>"
      ],
      "text/plain": [
       "   id                                               text  is_toxic\n",
       "0   0  thank you for understanding  i think very high...      -1.0\n",
       "1   1                    dear god this site is horrible       -1.0\n",
       "2   2       somebody will invariably try to add relig...      -1.0\n",
       "3   3       it says it right there that it is a type ...      -1.0\n",
       "4   4          before adding a new product to the lis...      -1.0"
      ]
     },
     "execution_count": 27,
     "metadata": {},
     "output_type": "execute_result"
    }
   ],
   "source": [
    "df_test = pd.read_csv(\"toxic_test.csv\")\n",
    "df_test.head()\n",
    "\n",
    "df_test = df_test[['Unnamed: 0', 'comment_text', 'is_toxic']]\n",
    "df_test.columns = ['id', 'text', 'is_toxic']\n",
    "df_test.loc[:, 'is_toxic'] = (df_test.loc[:, 'is_toxic'].astype('int') - 0.5) * 2\n",
    "df_test.loc[:, 'text'] = df_test.loc[:, 'text'].apply(lambda x: x.lower())\n",
    "df_test.loc[:, 'text'] = df_test.loc[:, 'text'].apply(lambda x: re.sub('[^а-яёa-z0-9]', ' ', x))\n",
    "df_test.head()"
   ]
  },
  {
   "cell_type": "markdown",
   "metadata": {},
   "source": [
    "BagOfWords: выделяю признаки из текста"
   ]
  },
  {
   "cell_type": "code",
   "execution_count": 28,
   "metadata": {},
   "outputs": [],
   "source": [
    "countvectorizer = CountVectorizer(min_df=0.01)\n",
    "X_train = countvectorizer.fit_transform(df.loc[:, 'text']).toarray()\n",
    "X_test = countvectorizer.transform(df_test.loc[:, 'text']).toarray()"
   ]
  },
  {
   "cell_type": "code",
   "execution_count": 29,
   "metadata": {},
   "outputs": [],
   "source": [
    "y_train = df.loc[:, 'is_toxic'].values\n",
    "y_test = df_test.loc[:, 'is_toxic'].values"
   ]
  },
  {
   "cell_type": "markdown",
   "metadata": {},
   "source": [
    "Обучаюсь с константой C = 100  \n",
    "Accuracy = 0.8 для сбалансированных классов и очень порезанном BagOfWords (оставляю только 600 слов из 90к в качестве признаков, т.к. иначе долго работает)"
   ]
  },
  {
   "cell_type": "code",
   "execution_count": 30,
   "metadata": {},
   "outputs": [
    {
     "name": "stdout",
     "output_type": "stream",
     "text": [
      "Accuracy: 0.8093441671503192\n",
      "fit time: 179.6826643219997\n",
      "-1.02439024390244\n",
      "45.71047686258097\n"
     ]
    }
   ],
   "source": [
    "c = 100\n",
    "old_oracle = SVMClassifier(step_alpha=1.0, step_beta=1.0, \n",
    "                 tolerance=1e-5, max_iter=300, l_2_coef=1.0, C_coef=c)\n",
    "start = time.monotonic()\n",
    "res = old_oracle.fit(X_train, y_train)\n",
    "finish = time.monotonic()\n",
    "weights = old_oracle.get_weights()\n",
    "#делаю предсказания\n",
    "pred = old_oracle.predict(X_test)\n",
    "accuracy = (pred == y_test).sum() / y_test.shape[0]\n",
    "#print(\"Weights: \" + str(weights))\n",
    "print(\"Accuracy: \" + str(accuracy))\n",
    "print(\"fit time: \" + str(finish - start))\n",
    "print(-weights[0] / weights[1])\n",
    "print(old_oracle.history['func'][-1])"
   ]
  },
  {
   "cell_type": "markdown",
   "metadata": {},
   "source": [
    "SVC от sklearn"
   ]
  },
  {
   "cell_type": "code",
   "execution_count": null,
   "metadata": {},
   "outputs": [],
   "source": [
    "X_train.shape"
   ]
  },
  {
   "cell_type": "code",
   "execution_count": 6,
   "metadata": {},
   "outputs": [
    {
     "data": {
      "text/plain": [
       "<20676x568 sparse matrix of type '<class 'numpy.int64'>'\n",
       "\twith 460453 stored elements in Compressed Sparse Row format>"
      ]
     },
     "execution_count": 6,
     "metadata": {},
     "output_type": "execute_result"
    }
   ],
   "source": [
    "X_train_new = scipy.sparse.csr_matrix(X_train)\n",
    "X_test_new = scipy.sparse.csr_matrix(X_test)\n",
    "X_test_new"
   ]
  },
  {
   "cell_type": "code",
   "execution_count": null,
   "metadata": {},
   "outputs": [],
   "source": [
    "from sklearn.svm import SVC \n",
    "import matplotlib.pyplot as plt\n",
    "%matplotlib inline\n",
    "\n",
    "model = SVC(kernel='linear', C=1e5, cache_size=10000)\n",
    "model.fit(X_train_new, y_train)\n",
    "\n",
    "pred = model.predict(X_test_new)\n",
    "accuracy = (pred == y_test).sum() / y_test.shape[0]"
   ]
  }
 ],
 "metadata": {
  "kernelspec": {
   "display_name": "Python 3",
   "language": "python",
   "name": "python3"
  },
  "language_info": {
   "codemirror_mode": {
    "name": "ipython",
    "version": 3
   },
   "file_extension": ".py",
   "mimetype": "text/x-python",
   "name": "python",
   "nbconvert_exporter": "python",
   "pygments_lexer": "ipython3",
   "version": "3.6.9"
  }
 },
 "nbformat": 4,
 "nbformat_minor": 2
}
